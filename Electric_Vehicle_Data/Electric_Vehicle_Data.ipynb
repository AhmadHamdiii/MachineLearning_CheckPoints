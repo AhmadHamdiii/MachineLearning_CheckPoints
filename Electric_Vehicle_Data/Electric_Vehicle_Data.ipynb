{
 "cells": [
  {
   "cell_type": "markdown",
   "metadata": {},
   "source": [
    "In this checkpoint, we are going to work on the 'Electric Vehicle Data' dataset that was provided by Kaggle as part of the Electric Vehicle Price Prediction competition.\n",
    "\n",
    "Dataset description: This dataset contains information on the Battery Electric Vehicles (BEVs) and Plug-in Hybrid Electric Vehicles (PHEVs) that are currently registered with the Washington State Department of Licensing (DOL). This dataset was introduced as part of an official invitation-based competition on Kaggle. Our SVM model should answer the question \"This is my car's model & make, along with a few other parameters, what price can this vehicle be brought or sold?”\n",
    "\n",
    "![Image](https://i.imgur.com/IpuCW3s_d.webp?maxwidth=780&fidelity=grand)\n",
    "\n",
    "Instructions\n",
    "\n",
    "1. Import you data and perform basic data exploration phase\n",
    " - Display general information about the dataset\n",
    " - Create a pandas profiling reports to gain insights into the dataset\n",
    " - Handle Missing and corrupted values\n",
    " - Remove duplicates, if they exist\n",
    " - Handle outliers, if they exist\n",
    " - Encode categorical features\n",
    "2. Select your target variable and the features\n",
    "3. Split your dataset to training and test sets\n",
    "4. Build and train an SVM model on the training set\n",
    "5. Assess your model performance on the test set using relevant evaluation metrics\n",
    "6. Discuss with your cohort alternative ways to improve your model performance"
   ]
  },
  {
   "cell_type": "code",
   "execution_count": null,
   "metadata": {},
   "outputs": [],
   "source": []
  }
 ],
 "metadata": {
  "language_info": {
   "name": "python"
  }
 },
 "nbformat": 4,
 "nbformat_minor": 2
}
